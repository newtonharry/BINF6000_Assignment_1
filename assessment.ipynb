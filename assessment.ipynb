{
 "cells": [
  {
   "cell_type": "code",
   "execution_count": 40,
   "metadata": {},
   "outputs": [],
   "source": [
    "import guide\n",
    "from pprint import pprint\n",
    "import numpy as np\n",
    "\n",
    "\n",
    "%load_ext autoreload\n",
    "%autoreload 2"
   ]
  },
  {
   "attachments": {},
   "cell_type": "markdown",
   "metadata": {},
   "source": [
    "# Part A: Database access"
   ]
  },
  {
   "cell_type": "code",
   "execution_count": null,
   "metadata": {},
   "outputs": [],
   "source": [
    "# Exercise 1\n",
    "myprotein = getSequence('TMM25_HUMAN', format='txt')\n",
    "mysequence = getSequence('TMM25_HUMAN', format='fasta')\n",
    "header = myprotein.split('\\n', 1)[0]\n",
    "print(\"Currently processing the sequence with name UNIPROT: %s\" % header.split()[1])\n",
    "sp_end = None\n",
    "for line in myprotein.splitlines():\n",
    "    words = line.split()\n",
    "    if words[0] == 'FT' and words[1] == 'SIGNAL':\n",
    "        sp_end = (words[2].split(\"..\"))[1]\n",
    "if sp_end != None:\n",
    "    print(\"There is a signal peptide ending at position %d\" % int(sp_end))\n",
    "    print(\"The signal peptide looks like this: %s\" % mysequence.sequence[:int(sp_end)])\n",
    "else:\n",
    "    print(\"There is no signal peptide\")"
   ]
  },
  {
   "cell_type": "code",
   "execution_count": null,
   "metadata": {},
   "outputs": [],
   "source": [
    "# Exercise 2\n",
    "\n",
    "# This code looks for proteins in the DAO family of enzymes from the Uniprot database\n",
    "# that are annotated as being from E. coli. It then writes those sequences to a file\n",
    "# called 'dao.fa' in FASTA format. It also prints the number of sequences that it finds\n",
    "# in E. coli.\n",
    "\n",
    "eqs = []\n",
    "names = searchSequences('family:DAO AND reviewed:true')\n",
    "cnt = 0\n",
    "for name in names:\n",
    "    seq = getSequence(name)\n",
    "    seqs.append(seq)\n",
    "    start_index = seq.annot.find(\"OS=\")\n",
    "    if start_index != -1:\n",
    "        end_index = seq.annot.find(\"=\", start_index + 3)\n",
    "        if end_index == -1:\n",
    "            end_index = len(seq.annot)\n",
    "        species = seq.annot[start_index + 3:end_index]\n",
    "        print(seq.name, '\\t', species)\n",
    "        if species.startswith(\"Escherichia coli\"):\n",
    "            print('*')\n",
    "            cnt += 1\n",
    "    else:\n",
    "        print(seq.name, '\\t no species')\n",
    "writeFastaFile('dao.fa', seqs)\n",
    "if cnt > 0:\n",
    "    print(\"Found %d exemplars in E. coli\" % cnt)"
   ]
  },
  {
   "cell_type": "code",
   "execution_count": null,
   "metadata": {},
   "outputs": [],
   "source": [
    "# Exercise 3\n",
    "# Fasta files are a file format for storing sequence data\n",
    "# Reading the fail.fa file fails because the second sequence in the file has a space in front of the \">\" symbol and the code considers that to be apart of the first sequence.\n",
    "# Since \">\" symbols are illegal in protein alphabets, a runtime error is raised and the fasta file is not read\n",
    "readFastaFile('fail.fa',Protein_Alphabet)"
   ]
  },
  {
   "attachments": {},
   "cell_type": "markdown",
   "metadata": {},
   "source": [
    "# Part b: Sequence alignment"
   ]
  },
  {
   "cell_type": "code",
   "execution_count": null,
   "metadata": {},
   "outputs": [],
   "source": [
    "b62 = readSubstMatrix(\"blosum62.matrix\",Protein_Alphabet)\n",
    "seqs = readFastaFile('dao.fa',Protein_Alphabet)"
   ]
  },
  {
   "cell_type": "code",
   "execution_count": null,
   "metadata": {},
   "outputs": [],
   "source": [
    "my_student_number = 47850385 # replace this number with your UQ student number\n",
    "my_sequence_number = my_student_number % (len(seqs) - 1)\n",
    "print('I will be using sequence number %d, which is %s' % (my_sequence_number, seqs[my_sequence_number].name))"
   ]
  },
  {
   "cell_type": "code",
   "execution_count": null,
   "metadata": {},
   "outputs": [],
   "source": [
    "# Exercise 4\n",
    "\n",
    "best1 = 0\n",
    "idx1 = 0\n",
    "best2 = 0\n",
    "idx2 = 0\n",
    "\n",
    "for idx in range(len(seqs)): # iterate over all sequences\n",
    "\n",
    "    # If the sequence is not the same as the sequence we are comparing to\n",
    "    if idx != my_sequence_number:\n",
    "        seq = seqs[idx] # Get the sequence at the current index\n",
    "        aln = align(seqs[my_sequence_number], seq, b62, -7) # Align the sequences\n",
    "        percent = scoreAlignment(aln) / aln.alignlen # Calculate the percentage of the alignment (how similar they are)\n",
    "\n",
    "        if best1 < percent: # Keeping track of the best and second best scores \n",
    "            best2 = best1 # Save the current best score as the second best score\n",
    "            idx2 = idx1\n",
    "            best1 = percent # Save the current score as the best score\n",
    "            idx1 = idx\n",
    "        elif best2 < percent: # Keeping track of the second best score \n",
    "            best2 = percent #  Save the current score as the second best score\n",
    "            idx2 = idx\n",
    "\n",
    "\n",
    "print('The best match is %s with %f%%' % (seqs[idx1].name, best1 * 100))\n",
    "print('The second best match is %s with %f%%' % (seqs[idx2].name, best2 * 100))"
   ]
  },
  {
   "cell_type": "code",
   "execution_count": null,
   "metadata": {},
   "outputs": [],
   "source": [
    "# Exercise 5\n",
    "def getConsensusForColumn(aln, colidx):\n",
    "    symcnt = {}\n",
    "\n",
    "    for seq in aln.seqs:\n",
    "        mysym = seq[colidx]\n",
    "        if mysym in symcnt:\n",
    "            symcnt[mysym] += 1\n",
    "        else:\n",
    "            symcnt[mysym] = 1\n",
    "    consensus = None\n",
    "    maxcnt = 0\n",
    "    for mysym in symcnt:\n",
    "        if symcnt[mysym] > maxcnt:\n",
    "            maxcnt = symcnt[mysym]\n",
    "            consensus = mysym\n",
    "    return consensus\n",
    "\n",
    "\n",
    "def getConsensus(aln):\n",
    "    consensus_str = '' # The consensus string\n",
    "    for colidx in range(aln.alignlen): # Iterate over all columns in the alignment\n",
    "        consensus_str += getConsensusForColumn(aln, colidx) # Get the consensus residue for each column and append it to a string\n",
    "    return Sequence(consensus_str, Protein_Alphabet, name='Consensus', gappy=True) # Return the consensus sequence\n",
    "\n",
    "\n",
    "aln = readClustalFile('dao.aln',Protein_Alphabet)\n",
    "consensus = getConsensus(aln)\n",
    "print(consensus.sequence)"
   ]
  },
  {
   "cell_type": "code",
   "execution_count": null,
   "metadata": {},
   "outputs": [],
   "source": [
    "aln = readClustalFile('dao.aln', Protein_Alphabet)\n",
    "my_favourites = [\"sp|Q9AA58|MNMC_CAUVC\", \"sp|Q0ALP0|MNMC_MARMM\", \"sp|B0SVF8|MNMC_CAUSK\", \"sp|A1JKL6|MNMC_YERE8\", \"sp|A5IC27|MNMC_LEGPC\", \"sp|C3LP59|MNMC_VIBCM\", \"sp|Q1C669|MNMC_YERPA\", \"sp|A1K5J4|MNMC_AZOSB\", \"sp|Q3SID4|MNMC_THIDA\", \"sp|Q04XS7|MNMC_LEPBL\"]\n",
    "selected_seqs = []\n",
    "for seq in aln.seqs:\n",
    "    for name in my_favourites:\n",
    "        if seq.name == name:\n",
    "            selected_seqs.append(seq)\n",
    "            break\n",
    "selected = Alignment(selected_seqs)"
   ]
  },
  {
   "cell_type": "code",
   "execution_count": null,
   "metadata": {},
   "outputs": [],
   "source": [
    " # Exercise 6\n",
    "def calcDistances(alignments, measure = 'fractional', a=1.0):\n",
    "   \n",
    "    measure = measure.lower()\n",
    "    if not measure in ['fractional', 'poisson', 'gamma', 'jc', 'k2p']:\n",
    "        raise RuntimeError('Unsupported evolutionary distance measure: %s' % measure)\n",
    "    a = float(a)\n",
    "    distmat = numpy.zeros((len(alignments.seqs), len(alignments.seqs)))\n",
    "    # Loop through each pair of sequences\n",
    "    for i in range(len(alignments.seqs)):\n",
    "        for j in range(i + 1, len(alignments.seqs)):\n",
    "            seqA = alignments.seqs[i]\n",
    "            seqB = alignments.seqs[j]\n",
    "            # Calculate the fractional distance (p) first\n",
    "            # The two sequences of interest are in seqA and seqB\n",
    "            L = 0\n",
    "            D = 0\n",
    "            for k in range(alignments.alignlen):\n",
    "                # For every non-gapped column, put to L\n",
    "                # For every non-gapped column where the sequences are\n",
    "                # different, put to D\n",
    "                if seqA[k] != '-' and seqB[k] != '-':\n",
    "                    L += 1\n",
    "                    if seqA[k] != seqB[k]:\n",
    "                        D += 1\n",
    "            p = D / L\n",
    "            # Now calculate the specified measure based on p\n",
    "            if measure == 'fractional':\n",
    "                dist = p\n",
    "            ### BEGIN SOLUTION ###\n",
    "            elif measure == 'poisson':  \n",
    "                dist = -math.log(1 - p) # Poisson distance \n",
    "            elif measure == 'gamma':\n",
    "                dist = a * ((1-p)**(-1/a) - 1) # Gamma distance\n",
    "            ### END SOLUTION ###\n",
    "            else:\n",
    "                raise RuntimeError('Not implemented: %s' % measure)\n",
    "            distmat[i, j] = distmat[j, i] = dist\n",
    "    return distmat"
   ]
  },
  {
   "cell_type": "code",
   "execution_count": null,
   "metadata": {},
   "outputs": [],
   "source": [
    "# Exercise 6\n",
    "import numpy as np\n",
    "import matplotlib.pyplot as plt\n",
    "p_distance = calcDistances(selected,'fractional')\n",
    "poisson_distance = calcDistances(selected,'poisson')\n",
    "gamma_distance = calcDistances(selected,'gamma',a=0.7)\n",
    "\n",
    "# Plot heat map for each distance matrix\n",
    "fig, ax = plt.subplots()\n",
    "ax.imshow(p_distance, plt.cm.gray, interpolation='nearest')\n",
    "plt.yticks(np.arange(len(selected)), [s.name for s in selected])\n",
    "plt.title('Fractional Distances')\n",
    "plt.show()\n",
    "\n",
    "fig, ax = plt.subplots()\n",
    "ax.imshow(poisson_distance, plt.cm.gray, interpolation='nearest')\n",
    "plt.yticks(np.arange(len(selected)), [s.name for s in selected])\n",
    "plt.title('Poisson Distances')\n",
    "plt.show()\n",
    "\n",
    "fig, ax = plt.subplots()\n",
    "ax.imshow(gamma_distance, plt.cm.gray, interpolation='nearest')\n",
    "plt.yticks(np.arange(len(selected)), [s.name for s in selected])\n",
    "plt.title('Gamma Distances')\n",
    "plt.show()"
   ]
  },
  {
   "cell_type": "code",
   "execution_count": 2,
   "metadata": {},
   "outputs": [
    {
     "name": "stdout",
     "output_type": "stream",
     "text": [
      "{'S.cerevisiae': [True, True, True, True, True, True, True, True, True], 'S.paradoxus': [True, True, True, True, True, True, True, True, True], 'S.mikatae': [True, True, True, True, False, True, True, True, True], 'S.kudriavzevii': [True, True, True, True, True, True, True, True, True], 'S.bayanus': [True, True, True, True, True, True, True, True, False], 'S.castelli': [False, True, False, False, False, True, False, False, False], 'C.glabrata': [False, True, False, False, False, False, False, False, False], 'K.polysporus': [False, True, False, False, False, False, False, False, True], 'K.thermotolerans': [True, True, True, True, True, False, True, True, True], 'L.waltii': [True, True, True, False, True, True, False, True, True], 'S.kluyverii': [True, True, False, False, True, False, False, True, True], 'K.lactis': [True, True, True, True, True, False, False, True, True], 'A.gossypii': [True, False, False, False, False, False, False, False, False], 'L.elongisporus': [True, True, True, True, True, True, True, True, True]}\n"
     ]
    }
   ],
   "source": [
    "import csv\n",
    "yeasts = dict()\n",
    "with open('sugars.csv', 'rt') as csvfile:\n",
    "    reader = csv.reader(csvfile)\n",
    "    next(reader) # Skip the header\n",
    "    for row in reader:\n",
    "        yeasts[row[0]] = [y == 'True' for y in row[1:]]\n",
    "        \n",
    "print(yeasts)"
   ]
  },
  {
   "cell_type": "code",
   "execution_count": 3,
   "metadata": {},
   "outputs": [
    {
     "name": "stdout",
     "output_type": "stream",
     "text": [
      "dict_keys(['S.cerevisiae', 'S.paradoxus', 'S.mikatae', 'S.kudriavzevii', 'S.bayanus', 'S.castelli', 'C.glabrata', 'K.polysporus', 'K.thermotolerans', 'L.waltii', 'S.kluyverii', 'K.lactis', 'A.gossypii', 'L.elongisporus'])\n",
      "Found 31 species in the dataset\n"
     ]
    }
   ],
   "source": [
    "# Exercise 7\n",
    "yeasts = yeasts.keys() # Get the keys from the yeasts dictionary\n",
    "print(yeasts)\n",
    "include_species_sequence_data = False  # Flag to indicate whether to include the species sequence data\n",
    "species_count = 0 # Count the number of species in the dataset\n",
    "with open('MaLS.fa','r') as protein_sequences, open('select.fa','w') as output: # Open the protein sequences file and the output file\n",
    "    lines = protein_sequences.readlines() # Read all the lines in the protein sequences file\n",
    "    for line in lines:\n",
    "        if line.startswith('>'):\n",
    "            include_species_sequence_data = False # Reset the flag\n",
    "            species_info = line[1:].split() # Get the species information from the header\n",
    "            if species_info[0] in yeasts: # If the species is in the yeast set\n",
    "                species_count += 1 # Increment the species count\n",
    "                output.write(f\">{'_'.join(species_info)}\\n\") # Write the header to the output file\n",
    "                include_species_sequence_data = True # Set the flag to include the species sequence data\n",
    "        elif include_species_sequence_data: # If the flag is set \n",
    "            output.write(line) # Write the sequence to the output file\n",
    "\n",
    "print(f\"Found {species_count} species in the dataset\")"
   ]
  },
  {
   "cell_type": "code",
   "execution_count": null,
   "metadata": {},
   "outputs": [],
   "source": [
    "# Exercise 8\n",
    "aln = readClustalFile('select.aln',Protein_Alphabet)\n",
    "consensus = getConsensus(aln)\n",
    "print(consensus.sequence)"
   ]
  },
  {
   "cell_type": "code",
   "execution_count": null,
   "metadata": {},
   "outputs": [],
   "source": [
    "\n",
    "# \n",
    "with open('MaLS.fa','r') as protein_sequences, open('MaLS_updated.fa','w') as output: # Open the protein sequences file and the output file\n",
    "    lines = protein_sequences.readlines() # Read all the lines in the protein sequences file\n",
    "    for line in lines:\n",
    "        if line.startswith('>'):\n",
    "            species_info = line[1:].split() # Get the species information from the header\n",
    "            output.write(f\">{'_'.join(species_info)}\\n\") # Write the header to the output file\n",
    "        else: # If the flag is set \n",
    "            output.write(line) # Write the sequence to the output file\n",
    "\n",
    "print(f\"Found {species_count} species in the dataset\")"
   ]
  },
  {
   "cell_type": "code",
   "execution_count": 35,
   "metadata": {},
   "outputs": [
    {
     "name": "stdout",
     "output_type": "stream",
     "text": [
      "[174, 231, 323, 429]\n"
     ]
    }
   ],
   "source": [
    "# Exercise 9\n",
    "\n",
    "import re\n",
    "\n",
    "\n",
    "# Get all of the unique strings at these columns 173, 231-234, 294-295, 324 and 437 of each sequence and put them into a set\n",
    "# Need to include more range in the chose columns in order to make the sequences more unique\n",
    "aln = readClustalFile('MalS.aln',Protein_Alphabet) \n",
    "binding_sites = set() \n",
    "binding_sites_for_regexes = [set() for _ in range(5)]\n",
    "for seq in aln.seqs:\n",
    "    binding_sites.add(seq[173:180])\n",
    "    binding_sites.add(seq[230:238])\n",
    "    binding_sites.add(seq[293:300])\n",
    "    binding_sites.add(seq[323:330])\n",
    "    binding_sites.add(seq[436:440])\n",
    "\n",
    "\n",
    "# Generate a list of regexes for each subset of binding sites\n",
    "# regexes = []\n",
    "# for subset in data:\n",
    "#     regex = \"\"\n",
    "#     length = len(next(iter(subset)))\n",
    "#     for i in range(length):\n",
    "#         chars = {s[i] for s in subset}\n",
    "#         if len(chars) > 1:\n",
    "#             # Escaping \"-\" by replacing it with \"\\-\"\n",
    "#             chars = {c if c != \"-\" else \"\\-\" for c in chars}\n",
    "#             regex += \"[\" + \"\".join(chars) + \"]\"\n",
    "#         else:\n",
    "#             regex += next(iter(chars))\n",
    "#     regexes.append(regex)\n",
    "\n",
    "    \n",
    "\n",
    "# METHOD 1: Use the list of regexes to find the index of the binding sites\n",
    "# aln = readClustalFile('select.aln',Protein_Alphabet) \n",
    "# select_binding_sites = set()\n",
    "# for seq in aln.seqs:\n",
    "#     for regex in regexes:\n",
    "#         match = re.search(regex, seq.sequence)\n",
    "#         if match:\n",
    "#             select_binding_sites.add(match.start() + 1)\n",
    "\n",
    "# print(sorted(select_binding_sites))\n",
    "     \n",
    "    \n",
    "    \n",
    "# METHOD 2: Use the list of binding sites to find the index of the binding sites\n",
    "aln = readClustalFile('select.aln',Protein_Alphabet) \n",
    "select_binding_sites = set()\n",
    "for seq in aln.seqs:\n",
    "    for binding_site in binding_sites:\n",
    "        index = seq.find(binding_site)\n",
    "        if index != -1:\n",
    "            select_binding_sites.add(index + 1)\n",
    "    \n",
    "\n",
    "print(sorted(select_binding_sites))\n",
    "\n",
    "\n",
    "\n",
    "\n"
   ]
  },
  {
   "cell_type": "code",
   "execution_count": 41,
   "metadata": {},
   "outputs": [
    {
     "name": "stdout",
     "output_type": "stream",
     "text": [
      "((((S.mikatae_IFO1815_c203:0.04757080910159872,(((S.cerevisiae_YIIc17_E5:0.0008568982388673152,S.cerevisiae_MAL32:0.0008568982388673152):0.0012882920294089452,S.cerevisiae_MAL12:0.0021451902682762605):0.03578787462373573,S.paradoxus_CBS432:0.03793306489201199):0.009637744209586734):0.02987943289995318,S.kudriavzevii_IFO1802_c1970:0.0774502420015519):0.09219893917569727,(S.kudriavzevii_IFO1802_c1888:0.06982996412576659,(((S.bayanus_MYC623:0.03843477858509372,((S.mikatae_IFO1815_c633:0.029374172348705214,(S.paradoxus_UFRJ50791:0.021022834548052243,((S.cerevisiae_YPS606:0.0025531970372870694,S.cerevisiae_S288c_IMA2:0.0025531970372870694):0.0012831508066300434,(S.cerevisiae_S288c_IMA4:-0.0,S.cerevisiae_S288c_IMA3:-0.0):0.0038363478439171128):0.01718648670413513):0.008351337800652971):0.005946326589372414,S.cerevisiae_S288c_IMA1:0.03532049893807763):0.003114279647016091):0.002233348585348141,S.kudriavzevii_IFO1802_c1565:0.04066812717044186):0.016875773663987438,(S.paradoxus_N_45:0.026138355248243792,S.mikatae_IFO1815_c789:0.026138355248243792):0.03140554558618551):0.012286063291337287):0.09981921705148258):0.0419540234345841,((S.paradoxus_DBVPG6304:0.044995254454002626,(S.cerevisiae_273614N:0.02199123130066443,S.cerevisiae_S288c_IMA5:0.02199123130066443):0.023004023153338195):0.14973931106363994,((S.kluyverii_SAKL0A05654g:0.0684750996866541,S.kluyverii_SAKL0A05698g:0.0684750996866541):0.07465412295137247,(S.kluyverii_SAKL0A00154g:0.06664361109617435,S.kluyverii_SAKL0C00176g:0.06664361109617435):0.07648561154185222):0.05160534287961599):0.0168686390941907):0.0\n"
     ]
    }
   ],
   "source": [
    "# Exercise 10\n",
    "\n",
    "aln = readClustalFile('select.aln', Protein_Alphabet)\n",
    "tree = runUPGMA(aln, 'poisson')\n",
    "\n",
    "print(tree)"
   ]
  },
  {
   "cell_type": "code",
   "execution_count": 36,
   "metadata": {},
   "outputs": [
    {
     "name": "stdout",
     "output_type": "stream",
     "text": [
      "'((((S.mikatae_true:0.04757080910159872,(((S.cerevisiae_true:0.0008568982388673152,S.cerevisiae_true:0.0008568982388673152):0.0012882920294089452,S.cerevisiae_true:0.0021451902682762605):0.03578787462373573,S.paradoxus_true:0.03793306489201199):0.009637744209586734):0.02987943289995318,S.kudriavzevii_true:0.0774502420015519):0.09219893917569727,(S.kudriavzevii_true:0.06982996412576659,(((S.bayanus_true:0.03843477858509372,((S.mikatae_true:0.029374172348705214,(S.paradoxus_true:0.021022834548052243,((S.cerevisiae_true:0.0025531970372870694,S.cerevisiae_true:0.0025531970372870694):0.0012831508066300434,(S.cerevisiae_true:-0.0,S.cerevisiae_true:-0.0):0.0038363478439171128):0.01718648670413513):0.008351337800652971):0.005946326589372414,S.cerevisiae_true:0.03532049893807763):0.003114279647016091):0.002233348585348141,S.kudriavzevii_true:0.04066812717044186):0.016875773663987438,(S.paradoxus_true:0.026138355248243792,S.mikatae_true:0.026138355248243792):0.03140554558618551):0.012286063291337287):0.09981921705148258):0.0419540234345841,((S.paradoxus_true:0.044995254454002626,(S.cerevisiae_true:0.02199123130066443,S.cerevisiae_true:0.02199123130066443):0.023004023153338195):0.14973931106363994,((S.kluyverii_false:0.0684750996866541,S.kluyverii_false:0.0684750996866541):0.07465412295137247,(S.kluyverii_false:0.06664361109617435,S.kluyverii_false:0.06664361109617435):0.07648561154185222):0.05160534287961599):0.0168686390941907):0.0'\n"
     ]
    }
   ],
   "source": [
    "# Exercise 11\n",
    "import re\n",
    "from pprint import pprint\n",
    "\n",
    "\n",
    "tree = \"((((S.mikatae_IFO1815_c203:0.04757080910159872,(((S.cerevisiae_YIIc17_E5:0.0008568982388673152,S.cerevisiae_MAL32:0.0008568982388673152):0.0012882920294089452,S.cerevisiae_MAL12:0.0021451902682762605):0.03578787462373573,S.paradoxus_CBS432:0.03793306489201199):0.009637744209586734):0.02987943289995318,S.kudriavzevii_IFO1802_c1970:0.0774502420015519):0.09219893917569727,(S.kudriavzevii_IFO1802_c1888:0.06982996412576659,(((S.bayanus_MYC623:0.03843477858509372,((S.mikatae_IFO1815_c633:0.029374172348705214,(S.paradoxus_UFRJ50791:0.021022834548052243,((S.cerevisiae_YPS606:0.0025531970372870694,S.cerevisiae_S288c_IMA2:0.0025531970372870694):0.0012831508066300434,(S.cerevisiae_S288c_IMA4:-0.0,S.cerevisiae_S288c_IMA3:-0.0):0.0038363478439171128):0.01718648670413513):0.008351337800652971):0.005946326589372414,S.cerevisiae_S288c_IMA1:0.03532049893807763):0.003114279647016091):0.002233348585348141,S.kudriavzevii_IFO1802_c1565:0.04066812717044186):0.016875773663987438,(S.paradoxus_N_45:0.026138355248243792,S.mikatae_IFO1815_c789:0.026138355248243792):0.03140554558618551):0.012286063291337287):0.09981921705148258):0.0419540234345841,((S.paradoxus_DBVPG6304:0.044995254454002626,(S.cerevisiae_273614N:0.02199123130066443,S.cerevisiae_S288c_IMA5:0.02199123130066443):0.023004023153338195):0.14973931106363994,((S.kluyverii_SAKL0A05654g:0.0684750996866541,S.kluyverii_SAKL0A05698g:0.0684750996866541):0.07465412295137247,(S.kluyverii_SAKL0A00154g:0.06664361109617435,S.kluyverii_SAKL0C00176g:0.06664361109617435):0.07648561154185222):0.05160534287961599):0.0168686390941907):0.0\"\n",
    "# For every sugar in sugars.csv, create a phylogenetic tree, replacing the labels in the tree with true or false if the species can or cannot metabolise the sugar\n",
    "# For every column in sugars.csv, check to see if the species can metabolise the sugar, if it can, then replace the label in the tree with true, otherwise replace it with false\n",
    "# Print the tree\n",
    "labels_original = re.findall(r'([a-zA-Z0-9_.-]+):',tree)\n",
    "\n",
    "# Extract the species name from the labels\n",
    "label_updated = [label.split('_')[0] for label in labels_original]\n",
    "\n",
    "for label in zip(labels_original,label_updated):\n",
    "    tree = tree.replace(label[0],label[1])\n",
    "\n",
    "    \n",
    "    \n",
    "# print(tree)\n",
    "# tree = tree.replace(labels[0],'true')\n",
    "# Read the sugars.csv file and go through each column (sugars) and test to see if the species (rows) can metabolise the sugar, if it can, replace the label in the tree with true, otherwise replace it with false\n",
    "with open('sugars.csv', 'rt') as csvfile:\n",
    "    reader = list(csv.reader(csvfile))\n",
    "    sugars = reader[0][1:]\n",
    "    trees = []\n",
    "    for i in range(9):\n",
    "        temp_tree = tree\n",
    "        for row in reader[1:]:\n",
    "            if row[i+1] == 'True':\n",
    "                temp_tree = temp_tree.replace(row[0],f'{row[0]}_true')\n",
    "            else:\n",
    "                temp_tree = temp_tree.replace(row[0],f'{row[0]}_false')\n",
    "\n",
    "        trees.append(temp_tree)\n",
    "\n",
    "        \n",
    "pprint(trees[3])\n",
    "\n",
    "\n",
    "\n",
    " "
   ]
  }
 ],
 "metadata": {
  "kernelspec": {
   "display_name": ".venv",
   "language": "python",
   "name": "python3"
  },
  "language_info": {
   "codemirror_mode": {
    "name": "ipython",
    "version": 3
   },
   "file_extension": ".py",
   "mimetype": "text/x-python",
   "name": "python",
   "nbconvert_exporter": "python",
   "pygments_lexer": "ipython3",
   "version": "3.11.1"
  },
  "orig_nbformat": 4
 },
 "nbformat": 4,
 "nbformat_minor": 2
}
